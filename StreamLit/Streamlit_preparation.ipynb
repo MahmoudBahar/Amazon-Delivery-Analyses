{
 "cells": [
  {
   "cell_type": "code",
   "execution_count": 1,
   "id": "f4188fe4-ea40-40b6-b894-2f41773c2ba0",
   "metadata": {
    "execution": {
     "iopub.execute_input": "2024-07-20T12:00:09.532955Z",
     "iopub.status.busy": "2024-07-20T12:00:09.532955Z",
     "iopub.status.idle": "2024-07-20T12:00:11.583048Z",
     "shell.execute_reply": "2024-07-20T12:00:11.583048Z",
     "shell.execute_reply.started": "2024-07-20T12:00:09.532955Z"
    }
   },
   "outputs": [],
   "source": [
    "import streamlit as st\n",
    "import pandas as pd\n",
    "import plotly.express as px\n",
    "import numpy as np\n",
    "# import streamlit.components.v1 as components"
   ]
  },
  {
   "cell_type": "code",
   "execution_count": 250,
   "id": "ff058a43-fe1a-41d0-99d2-bb485bdf7c2b",
   "metadata": {
    "execution": {
     "iopub.execute_input": "2024-07-20T18:39:29.963413Z",
     "iopub.status.busy": "2024-07-20T18:39:29.962413Z",
     "iopub.status.idle": "2024-07-20T18:39:29.968262Z",
     "shell.execute_reply": "2024-07-20T18:39:29.968262Z",
     "shell.execute_reply.started": "2024-07-20T18:39:29.963413Z"
    }
   },
   "outputs": [
    {
     "name": "stdout",
     "output_type": "stream",
     "text": [
      "Overwriting stream_router.py\n"
     ]
    }
   ],
   "source": [
    "%%writefile stream_router.py\n",
    "import streamlit as st\n",
    "import pandas as pd\n",
    "\n",
    "st.set_page_config(layout=\"wide\")\n",
    "@st.cache_data\n",
    "def load_data():\n",
    "    st.session_state.df = pd.read_pickle('../Amazon Delivery Dataset/amazon_delivery_cleaned_and_extracted_features_final_streamlit.pkl')\n",
    "if 'df' not in st.session_state:\n",
    "    load_data()\n",
    "    st.session_state.reset_data = load_data\n",
    "\n",
    "pg = st.navigation([st.Page(\"./pages/overview_page.py\",\n",
    "                            title=\"Overview\",\n",
    "                            icon=\":material/overview:\",\n",
    "                            default=True\n",
    "                           ),\n",
    "                    st.Page(\"./pages/analysis_page.py\",\n",
    "                            title=\"Analysis\",\n",
    "                            icon=\":material/analytics:\",\n",
    "                            default=False\n",
    "                           ),\n",
    "                    st.Page(\"./pages/map_page.py\",\n",
    "                            title=\"Map Analysis\",\n",
    "                            icon=\":material/map:\",\n",
    "                            default=False\n",
    "                           ),\n",
    "                    st.Page(\"./pages/agent_page.py\",\n",
    "                            title=\"Agent Analysis\",\n",
    "                            icon=\":material/person:\",\n",
    "                            default=False\n",
    "                           )])\n",
    "pg.run()"
   ]
  },
  {
   "cell_type": "code",
   "execution_count": 260,
   "id": "4de43a97-1046-4cb6-8b6e-fbf76c4e12b0",
   "metadata": {
    "execution": {
     "iopub.execute_input": "2024-07-20T18:52:21.214624Z",
     "iopub.status.busy": "2024-07-20T18:52:21.214624Z",
     "iopub.status.idle": "2024-07-20T18:52:21.222518Z",
     "shell.execute_reply": "2024-07-20T18:52:21.222518Z",
     "shell.execute_reply.started": "2024-07-20T18:52:21.214624Z"
    }
   },
   "outputs": [
    {
     "name": "stdout",
     "output_type": "stream",
     "text": [
      "Overwriting ./pages/overview_page.py\n"
     ]
    }
   ],
   "source": [
    "%%writefile ./pages/overview_page.py\n",
    "import streamlit as st\n",
    "import pandas as pd\n",
    "import plotly.express as px\n",
    "from datetime import datetime\n",
    "from st_aggrid import AgGrid\n",
    "import streamlit.components.v1 as components\n",
    "import folium\n",
    "from folium.plugins import MarkerCluster\n",
    "from streamlit_folium import st_folium\n",
    "\n",
    "\n",
    "\n",
    "palette = [\n",
    "    \"#323434\", \"#E1BCDA\", \"#8A8783\", \"#EADE61\", \"#F1EBE0\", \"#424445\",\n",
    "    \"#B9B4A7\", \"#C8D0D2\", \"#E5C1B1\", \"#A6B7B9\", \"#F4A8A1\", \"#9B9B9B\", \"#D6E0C4\",\"#F9F5E5\"]\n",
    "\n",
    "with open('./animations/delivery-animate.svg', 'r') as file:\n",
    "    svg_content = file.read()\n",
    "st.markdown(f\"<div style='width: 300px; height: 300px; align: center'>{svg_content}</div>\", unsafe_allow_html=True)\n",
    "st.title(\"Delivery Data Overview\")\n",
    "\n",
    "st.header(\"Summary Statistics\")\n",
    "st.write(st.session_state.df.describe())\n",
    "st.write(st.session_state.df.select_dtypes('string').describe())\n",
    "\n",
    "st.header(\"Order Count by Category\")\n",
    "fig = px.bar(st.session_state.df['Category'].value_counts().reset_index(), x='Category', y='count', color='Category', labels={'count': 'Number of orders'}, color_discrete_sequence=px.colors.qualitative.Pastel).update_layout(showlegend=False)\n",
    "st.plotly_chart(fig)\n",
    "    \n",
    "st.sidebar.title(\"Settings\")\n",
    "if st.sidebar.checkbox(\"Show raw data\"):\n",
    "    st.subheader(\"Raw Data\")\n",
    "    if 'ID' not in locals():\n",
    "        ID = ''\n",
    "        password = ''\n",
    "        edit = False\n",
    "    if not edit:\n",
    "        ID = st.text_input(\"\", placeholder=\"Order ID\", max_chars=13, autocomplete='off', value=ID)\n",
    "    col1, col2 = st.columns([1,1])\n",
    "    with col1:\n",
    "        edit = st.checkbox(\"Edit raw data\")\n",
    "    if edit:\n",
    "        st.warning(\"You are about to edit the raw data!\")\n",
    "        password = st.text_input(\"\", placeholder=\"password\", autocomplete='password', value = password, type='password')\n",
    "        if password == '12345678':\n",
    "            with col2:\n",
    "                reset = st.button(\"Reset Data\")\n",
    "            if reset:\n",
    "                st.session_state.df = pd.read_pickle('temp.pkl')\n",
    "                st.success(\"Data reseted successfully!\", icon = '✅')\n",
    "            st.session_state.df = st.data_editor(st.session_state.df)\n",
    "        elif password != '':\n",
    "            st.error(\"Wrong password!\")\n",
    "    else:\n",
    "        st.dataframe((st.session_state.df.loc[ID] if ID in st.session_state.df.index else {f\"{ID}\": 'not found'}) if ID != '' else st.session_state.df, hide_index=True if ID == '' else False)\n"
   ]
  },
  {
   "cell_type": "code",
   "execution_count": 40,
   "id": "a0d7d964-27cd-4615-9959-e05bb0e54327",
   "metadata": {
    "execution": {
     "iopub.execute_input": "2024-07-20T14:07:38.191115Z",
     "iopub.status.busy": "2024-07-20T14:07:38.191115Z",
     "iopub.status.idle": "2024-07-20T14:07:38.198080Z",
     "shell.execute_reply": "2024-07-20T14:07:38.198080Z",
     "shell.execute_reply.started": "2024-07-20T14:07:38.191115Z"
    }
   },
   "outputs": [
    {
     "name": "stdout",
     "output_type": "stream",
     "text": [
      "Overwriting ./pages/analysis_page.py\n"
     ]
    }
   ],
   "source": [
    "%%writefile ./pages/analysis.py\n",
    "import streamlit as st\n",
    "import plotly.express as px\n",
    "from st_aggrid import AgGrid\n",
    "with open('./animations/analysis-animate.svg', 'r') as file:\n",
    "    svg_content = file.read()\n",
    "st.markdown(f\"<div style='width: 300px; height: 300px; align: center'>{svg_content}</div>\", unsafe_allow_html=True)\n",
    "st.title(\"Detailed Analysis\")\n",
    "tab1, tab2 = st.tabs(['Static Analysis', 'Dynamic Analysis'])\n",
    "with tab1:\n",
    "    st.header(\"Traffic Along Pick-up Time\")\n",
    "    fig = px.line(st.session_state.df.groupby(['Pickup Time', 'Traffic', 'Weather', 'Vehicle']).agg('count')['Order ID'].rename('count').reset_index(['Traffic', 'Weather', 'Vehicle']), y='count', color='Traffic', template='plotly_dark', color_discrete_sequence=px.colors.qualitative.Dark24).update_layout(yaxis_title='Number of orders')\n",
    "    st.plotly_chart(fig)\n",
    "    \n",
    "    st.header(\"Store Types And Delivery Categories And Drop Types\")\n",
    "    fig = px.treemap(st.session_state.df, path=['Store Type Of Location', 'Category', 'Drop Type Of Location'], template='plotly_dark', height=700, color_discrete_sequence=px.colors.qualitative.Bold)\n",
    "    st.plotly_chart(fig)\n",
    "\n",
    "    choice = st.radio('Location:', options=('Store', 'Drop'), index = 0, help='Choose the location of the store or drop', horizontal=True)\n",
    "    st.header(f\"{choice} Locations\")\n",
    "    fig = px.sunburst(st.session_state.df, path=[f'{choice} Country', f'{choice} State', f'{choice} City District'], template = 'plotly_dark', height=700, color_discrete_sequence=px.colors.qualitative.Dark24 if choice == 'Store' else px.colors.qualitative.Dark24_r)\n",
    "    st.plotly_chart(fig)\n",
    "    \n",
    "with tab2:\n",
    "    def fig1():\n",
    "        if 'x' not in st.session_state:\n",
    "            st.session_state.x = st.session_state.x_old = st.session_state.y = st.session_state.y_old = None\n",
    "            st.session_state.c = st.session_state.c_old = st.session_state.s = st.session_state.s_old = None\n",
    "            st.session_state.f = st.session_state.f_old = None\n",
    "            st.session_state.bar = st.session_state.bar_old = 'relative'\n",
    "        def histo():\n",
    "            st.plotly_chart(px.histogram(data_frame=st.session_state.df.astype('string'), x=st.session_state.x, y=st.session_state.y, color=st.session_state.c, pattern_shape=st.session_state.s, histfunc=st.session_state.f, barmode=st.session_state.bar, color_discrete_sequence=px.colors.qualitative.Dark24))\n",
    "            \n",
    "        col1, col2, col3, col4, col5 = st.columns(5)\n",
    "        \n",
    "        with col1:\n",
    "            st.session_state.x = st.selectbox(label='x-axis', options=[None] + list(st.session_state.df.columns[1:]), index=0, key = 11)\n",
    "        with col2:\n",
    "            st.session_state.y = st.selectbox(label='y-axis', options=[None] + list(st.session_state.df.columns), index=0, key = 12)\n",
    "        with col3:\n",
    "            st.session_state.c = st.selectbox(label='color', options=[None] + list(st.session_state.df.select_dtypes('string').columns[1:]), index=0, key = 13)\n",
    "        with col4:\n",
    "            st.session_state.s = st.selectbox(label='shape', options=[None] + list(st.session_state.df.select_dtypes('string').columns[1:]), index=0, key = 14)\n",
    "        with col5:\n",
    "            st.session_state.f = st.selectbox(label='function', options=[None , 'count', 'sum', 'avg', 'min', 'max'], index=0, key = 15)\n",
    "        st.session_state.bar = st.radio('Barmode', options=('relative', 'group', 'overlay'), index = 0, horizontal = True)\n",
    "        \n",
    "        if st.session_state.x != st.session_state.x_old or st.session_state.y != st.session_state.y_old or st.session_state.c != st.session_state.c_old or st.session_state.s != st.session_state.s_old or st.session_state.f != st.session_state.f_old or st.session_state.bar != st.session_state.bar_old:\n",
    "            if st.session_state.y is not None or st.session_state.x is not None:\n",
    "                histo()\n",
    "            st.session_state.x_old = st.session_state.x\n",
    "            st.session_state.y_old = st.session_state.y\n",
    "            st.session_state.c_old = st.session_state.c\n",
    "            st.session_state.s_old = st.session_state.s\n",
    "            st.session_state.bar_old = st.session_state.bar\n",
    "    def fig2():\n",
    "        st.header(\"Filter by Vehicle Type\")\n",
    "        vehicle_type = st.selectbox(\"Select Vehicle Type\", st.session_state.df['Vehicle'].unique())\n",
    "        filtered_data = st.session_state.df[st.session_state.df['Vehicle'] == vehicle_type]\n",
    "        AgGrid(filtered_data)\n",
    "    fig1()\n",
    "    fig2()"
   ]
  },
  {
   "cell_type": "code",
   "execution_count": 41,
   "id": "820930e2-2ec0-45b9-913c-871f702b2ce6",
   "metadata": {
    "execution": {
     "iopub.execute_input": "2024-07-20T14:07:38.715087Z",
     "iopub.status.busy": "2024-07-20T14:07:38.715087Z",
     "iopub.status.idle": "2024-07-20T14:07:38.721735Z",
     "shell.execute_reply": "2024-07-20T14:07:38.721735Z",
     "shell.execute_reply.started": "2024-07-20T14:07:38.715087Z"
    }
   },
   "outputs": [
    {
     "name": "stdout",
     "output_type": "stream",
     "text": [
      "Overwriting ./pages/map_page.py\n"
     ]
    }
   ],
   "source": [
    "%%writefile ./pages/map_page.py\n",
    "import streamlit as st\n",
    "import plotly.express as px\n",
    "import streamlit.components.v1 as components\n",
    "import folium\n",
    "from folium.plugins import MarkerCluster\n",
    "from streamlit_folium import st_folium\n",
    "\n",
    "\n",
    "with open('./animations/paper-map-animate.svg', 'r') as file:\n",
    "    svg_content = file.read()\n",
    "st.markdown(f\"<div style='width: 300px; height: 300px; align: center'>{svg_content}</div>\", unsafe_allow_html=True)\n",
    "st.title(\"Maps\")\n",
    "tab1, tab2 = st.tabs(['Map Analysis', 'Advanceed Map Analysis'])\n",
    "with tab1:\n",
    "    st.header(\"Store Locations\")\n",
    "    fig = px.scatter_mapbox(st.session_state.df, lat='Store Latitude', lon='Store Longitude', color='Store City District', zoom=2, height=300)\n",
    "    fig.update_layout(mapbox_style=\"carto-darkmatter\")\n",
    "    st.plotly_chart(fig)\n",
    "    \n",
    "    st.header(\"Drop Locations\")\n",
    "    fig = px.scatter_mapbox(st.session_state.df, lat='Drop Latitude', lon='Drop Longitude', color='Drop City District', zoom=2, height=300)\n",
    "    fig.update_layout(mapbox_style=\"carto-darkmatter\")\n",
    "    st.plotly_chart(fig)\n",
    "with tab2:\n",
    "    @st.cache_data\n",
    "    def load_kepler():\n",
    "        with open('./kepler.gl.html', 'r') as file:\n",
    "            html_content = file.read()\n",
    "        return html_content\n",
    "    components.html(load_kepler(), height=600)\n",
    "    @st.cache_data\n",
    "    def load_folium():\n",
    "        center_lat = (st.session_state.df['Drop Latitude'].mean() + st.session_state.df['Store Latitude'].mean())/2\n",
    "        center_lon = (st.session_state.df['Drop Longitude'].mean() + st.session_state.df['Store Longitude'].mean())/2\n",
    "        mymap = folium.Map(location=[center_lat, center_lon], zoom_start=3, tiles='CartoDB dark_matter')\n",
    "        marker_cluster = MarkerCluster().add_to(mymap)\n",
    "        def markers(row):\n",
    "            folium.Marker(\n",
    "                location=[row['Store Latitude'], row['Store Longitude']],\n",
    "                popup=f\"Lat: {row['Store Latitude']}<br>Lon: {row['Store Longitude']}\",\n",
    "                tooltip=f\"{row['Order ID']}\",\n",
    "                icon=folium.Icon(color='darkred', icon='fa-solid fa-store', icon_color='white', prefix = 'fa')\n",
    "            ).add_to(marker_cluster)\n",
    "            folium.Marker(\n",
    "                location=[row['Drop Latitude'], row['Drop Longitude']],\n",
    "                popup=f\"Lat: {row['Drop Latitude']}<br>Lon: {row['Drop Longitude']}\",\n",
    "                tooltip=f\"{row['Order ID']}\",\n",
    "                icon=folium.Icon(color='darkred', icon='fa-solid fa-truck-ramp-box', icon_color='white', prefix = 'fa')\n",
    "            ).add_to(marker_cluster)\n",
    "\n",
    "        st.session_state.df.apply(markers, axis = 1)\n",
    "        return mymap\n",
    "    m = load_folium()\n",
    "    st_folium(m, width=700, height=500)"
   ]
  },
  {
   "cell_type": "code",
   "execution_count": 42,
   "id": "3079ceb8-23cd-4ecc-99fc-3e4bc1262c3c",
   "metadata": {
    "execution": {
     "iopub.execute_input": "2024-07-20T14:07:40.124937Z",
     "iopub.status.busy": "2024-07-20T14:07:40.123905Z",
     "iopub.status.idle": "2024-07-20T14:07:40.131647Z",
     "shell.execute_reply": "2024-07-20T14:07:40.130624Z",
     "shell.execute_reply.started": "2024-07-20T14:07:40.124937Z"
    }
   },
   "outputs": [
    {
     "name": "stdout",
     "output_type": "stream",
     "text": [
      "Overwriting ./pages/agent_page.py\n"
     ]
    }
   ],
   "source": [
    "%%writefile ./pages/agent_page.py\n",
    "import streamlit as st\n",
    "import plotly.express as px\n",
    "\n",
    "with open('./animations/delivery-animate2.svg', 'r') as file:\n",
    "    svg_content = file.read()\n",
    "st.markdown(f\"<div style='width: 300px; height: 300px; align: center'>{svg_content}</div>\", unsafe_allow_html=True)\n",
    "st.title(\"Agent Performance\")\n",
    "\n",
    "st.header(\"Agent Rating Distribution\")\n",
    "fig = px.histogram(st.session_state.df.astype('string'), x=st.session_state.df['Agent Rating'].astype('string'))\n",
    "st.plotly_chart(fig)\n",
    "\n",
    "st.header(\"Agent Age Distribution\")\n",
    "fig = px.histogram(st.session_state.df.astype('string'), x='Agent Age')\n",
    "st.plotly_chart(fig)\n",
    "\n",
    "st.header(\"Filter by Agent Rating\")\n",
    "rating = st.slider(\"Select Rating\", min_value=0.0, max_value=5.0, value=(0.0, 5.0))\n",
    "filtered_data = st.session_state.df[(st.session_state.df['Agent Rating'] >= rating[0]) & (st.session_state.df['Agent Rating'] <= rating[1])]\n",
    "st.write(filtered_data)"
   ]
  },
  {
   "cell_type": "code",
   "execution_count": null,
   "id": "fc7bc96a-e4b8-4a96-82d1-dfee5e697129",
   "metadata": {},
   "outputs": [],
   "source": [
    "!streamlit run stream.py"
   ]
  },
  {
   "cell_type": "code",
   "execution_count": 208,
   "id": "398dbc9c-1204-4879-b136-f0fdb34ead28",
   "metadata": {
    "execution": {
     "iopub.execute_input": "2024-07-20T18:23:51.448893Z",
     "iopub.status.busy": "2024-07-20T18:23:51.447896Z",
     "iopub.status.idle": "2024-07-20T18:23:51.525141Z",
     "shell.execute_reply": "2024-07-20T18:23:51.525141Z",
     "shell.execute_reply.started": "2024-07-20T18:23:51.448893Z"
    }
   },
   "outputs": [],
   "source": [
    "df =  pd.read_pickle('../Amazon Delivery Dataset/amazon_delivery_cleaned_and_extracted_features_final_streamlit.pkl')"
   ]
  },
  {
   "cell_type": "code",
   "execution_count": 233,
   "id": "e75e4a48-6a33-4f3e-840b-c58c7646c14b",
   "metadata": {
    "execution": {
     "iopub.execute_input": "2024-07-20T18:33:00.745043Z",
     "iopub.status.busy": "2024-07-20T18:33:00.745043Z",
     "iopub.status.idle": "2024-07-20T18:33:00.950136Z",
     "shell.execute_reply": "2024-07-20T18:33:00.950136Z",
     "shell.execute_reply.started": "2024-07-20T18:33:00.745043Z"
    }
   },
   "outputs": [],
   "source": [
    "df = pd.read_csv('temp.csv')"
   ]
  },
  {
   "cell_type": "code",
   "execution_count": 236,
   "id": "023059dd-94db-4eb2-a941-d393665aab3a",
   "metadata": {
    "execution": {
     "iopub.execute_input": "2024-07-20T18:33:42.798544Z",
     "iopub.status.busy": "2024-07-20T18:33:42.797552Z",
     "iopub.status.idle": "2024-07-20T18:33:42.824213Z",
     "shell.execute_reply": "2024-07-20T18:33:42.824213Z",
     "shell.execute_reply.started": "2024-07-20T18:33:42.798544Z"
    }
   },
   "outputs": [],
   "source": [
    "df['Order Date & Time'] = pd.to_datetime(df['Order Date & Time'], format=\"%Y-%m-%d %H:%M:%S\")"
   ]
  },
  {
   "cell_type": "code",
   "execution_count": 246,
   "id": "ad451961-9c98-4675-ac35-5ea2d6534c5e",
   "metadata": {
    "execution": {
     "iopub.execute_input": "2024-07-20T18:35:44.444141Z",
     "iopub.status.busy": "2024-07-20T18:35:44.443143Z",
     "iopub.status.idle": "2024-07-20T18:35:44.562834Z",
     "shell.execute_reply": "2024-07-20T18:35:44.562834Z",
     "shell.execute_reply.started": "2024-07-20T18:35:44.444141Z"
    }
   },
   "outputs": [],
   "source": [
    "# df.set_index('Order ID', inplace=True)\n",
    "df.to_pickle('temp.pkl')"
   ]
  },
  {
   "cell_type": "code",
   "execution_count": 244,
   "id": "5ba64df7-83c1-4c75-88f9-2176bb8c0cda",
   "metadata": {
    "execution": {
     "iopub.execute_input": "2024-07-20T18:35:33.670725Z",
     "iopub.status.busy": "2024-07-20T18:35:33.670725Z",
     "iopub.status.idle": "2024-07-20T18:35:33.677520Z",
     "shell.execute_reply": "2024-07-20T18:35:33.677520Z",
     "shell.execute_reply.started": "2024-07-20T18:35:33.670725Z"
    }
   },
   "outputs": [
    {
     "data": {
      "text/plain": [
       "Agent Age                          int32\n",
       "Agent Rating                     float64\n",
       "Store Latitude                   float64\n",
       "Store Longitude                  float64\n",
       "Drop Latitude                    float64\n",
       "Drop Longitude                   float64\n",
       "Pickup Time                       object\n",
       "Weather                           object\n",
       "Traffic                           object\n",
       "Vehicle                           object\n",
       "Area                              object\n",
       "Delivery Time                      int32\n",
       "Category                          object\n",
       "Order Date & Time         datetime64[ns]\n",
       "Pickup Daytime                    object\n",
       "Order Daytime                     object\n",
       "Distance                         float64\n",
       "Store City District               object\n",
       "Store County                      object\n",
       "Store State District              object\n",
       "Store State                       object\n",
       "Store Postcode                     int32\n",
       "Store Country                     object\n",
       "Store Type Of Location            object\n",
       "Drop City District                object\n",
       "Drop County                       object\n",
       "Drop State District               object\n",
       "Drop State                        object\n",
       "Drop Postcode                    float64\n",
       "Drop Country                      object\n",
       "Drop Type Of Location             object\n",
       "Arrival Time                      object\n",
       "dtype: object"
      ]
     },
     "execution_count": 244,
     "metadata": {},
     "output_type": "execute_result"
    }
   ],
   "source": [
    "df. dtypes"
   ]
  },
  {
   "cell_type": "code",
   "execution_count": 243,
   "id": "ec9eaa07-10e0-4e9f-8fdb-4b141c503d73",
   "metadata": {
    "execution": {
     "iopub.execute_input": "2024-07-20T18:35:30.093941Z",
     "iopub.status.busy": "2024-07-20T18:35:30.093941Z",
     "iopub.status.idle": "2024-07-20T18:35:30.098257Z",
     "shell.execute_reply": "2024-07-20T18:35:30.098257Z",
     "shell.execute_reply.started": "2024-07-20T18:35:30.093941Z"
    }
   },
   "outputs": [],
   "source": [
    "df['Store Postcode'] = df['Store Postcode'].astype(int)"
   ]
  },
  {
   "cell_type": "code",
   "execution_count": null,
   "id": "28e7501e-c9e6-4022-9070-c0abb4fb8f0f",
   "metadata": {},
   "outputs": [],
   "source": []
  }
 ],
 "metadata": {
  "kernelspec": {
   "display_name": "Python 3 (ipykernel)",
   "language": "python",
   "name": "python3"
  },
  "language_info": {
   "codemirror_mode": {
    "name": "ipython",
    "version": 3
   },
   "file_extension": ".py",
   "mimetype": "text/x-python",
   "name": "python",
   "nbconvert_exporter": "python",
   "pygments_lexer": "ipython3",
   "version": "3.12.4"
  }
 },
 "nbformat": 4,
 "nbformat_minor": 5
}
