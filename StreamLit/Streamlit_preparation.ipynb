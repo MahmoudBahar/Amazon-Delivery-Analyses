{
 "cells": [
  {
   "cell_type": "code",
   "execution_count": null,
   "id": "f4188fe4-ea40-40b6-b894-2f41773c2ba0",
   "metadata": {},
   "outputs": [],
   "source": [
    "import streamlit as st\n",
    "import psycopg2"
   ]
  },
  {
   "cell_type": "code",
   "execution_count": null,
   "id": "4b57f724-cfed-4258-b66e-4888534e3452",
   "metadata": {},
   "outputs": [],
   "source": [
    "%%writefile streamlit.py\n",
    "import streamlit as st"
   ]
  }
 ],
 "metadata": {
  "kernelspec": {
   "display_name": "Python 3 (ipykernel)",
   "language": "python",
   "name": "python3"
  },
  "language_info": {
   "codemirror_mode": {
    "name": "ipython",
    "version": 3
   },
   "file_extension": ".py",
   "mimetype": "text/x-python",
   "name": "python",
   "nbconvert_exporter": "python",
   "pygments_lexer": "ipython3",
   "version": "3.12.4"
  }
 },
 "nbformat": 4,
 "nbformat_minor": 5
}
